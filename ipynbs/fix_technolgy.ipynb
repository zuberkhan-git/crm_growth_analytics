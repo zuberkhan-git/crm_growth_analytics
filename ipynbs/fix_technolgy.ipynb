{
 "cells": [
  {
   "cell_type": "code",
   "execution_count": 1,
   "id": "9eb77977-1cd5-4f63-9fa7-4d86f47bf6a4",
   "metadata": {
    "tags": []
   },
   "outputs": [],
   "source": [
    "import pandas as pd\n",
    "import numpy as np\n",
    "import matplotlib as plt"
   ]
  },
  {
   "cell_type": "code",
   "execution_count": 2,
   "id": "6c809a6d-e0d4-49e8-80c6-44647bc1b166",
   "metadata": {
    "tags": []
   },
   "outputs": [],
   "source": [
    "df1 = pd.read_csv('all_left_joined_cntrys_fixed_5_26_24_01.csv')\n",
    "df2 = pd.read_csv('all_outer_joined_cntrys_fixed_5_26_24_01.csv')"
   ]
  },
  {
   "cell_type": "code",
   "execution_count": 3,
   "id": "bedd5594-2041-41d0-99fc-d23b8670cd5f",
   "metadata": {
    "tags": []
   },
   "outputs": [],
   "source": [
    "#changing 'technolgy' sector to 'technology' sector for my two primary entities. 8:15a 5/30/24\n",
    "df1_tech_fix = df1.replace('technolgy', 'technology')"
   ]
  },
  {
   "cell_type": "code",
   "execution_count": 6,
   "id": "e8ea3929-4e30-40f7-a5b1-4c86f4837537",
   "metadata": {
    "tags": []
   },
   "outputs": [
    {
     "data": {
      "text/html": [
       "<div>\n",
       "<style scoped>\n",
       "    .dataframe tbody tr th:only-of-type {\n",
       "        vertical-align: middle;\n",
       "    }\n",
       "\n",
       "    .dataframe tbody tr th {\n",
       "        vertical-align: top;\n",
       "    }\n",
       "\n",
       "    .dataframe thead th {\n",
       "        text-align: right;\n",
       "    }\n",
       "</style>\n",
       "<table border=\"1\" class=\"dataframe\">\n",
       "  <thead>\n",
       "    <tr style=\"text-align: right;\">\n",
       "      <th></th>\n",
       "      <th>opportunity_id</th>\n",
       "      <th>sales_agent</th>\n",
       "      <th>product</th>\n",
       "      <th>account</th>\n",
       "      <th>deal_stage</th>\n",
       "      <th>engage_date</th>\n",
       "      <th>close_date</th>\n",
       "      <th>close_value</th>\n",
       "      <th>series</th>\n",
       "      <th>sales_price</th>\n",
       "      <th>sector</th>\n",
       "      <th>year_established</th>\n",
       "      <th>revenue</th>\n",
       "      <th>employees</th>\n",
       "      <th>office_location</th>\n",
       "      <th>subsidiary_of</th>\n",
       "      <th>manager</th>\n",
       "      <th>regional_office</th>\n",
       "    </tr>\n",
       "  </thead>\n",
       "  <tbody>\n",
       "  </tbody>\n",
       "</table>\n",
       "</div>"
      ],
      "text/plain": [
       "Empty DataFrame\n",
       "Columns: [opportunity_id, sales_agent, product, account, deal_stage, engage_date, close_date, close_value, series, sales_price, sector, year_established, revenue, employees, office_location, subsidiary_of, manager, regional_office]\n",
       "Index: []"
      ]
     },
     "execution_count": 6,
     "metadata": {},
     "output_type": "execute_result"
    }
   ],
   "source": [
    "df1_tech_fix[df1_tech_fix['sector']=='technolgy'] # it worked. let's export. \n"
   ]
  },
  {
   "cell_type": "code",
   "execution_count": 7,
   "id": "57c963e9-e418-4efc-b2ea-f86d75d99bc2",
   "metadata": {
    "tags": []
   },
   "outputs": [],
   "source": [
    "file_path = 'all_left_joined_cntrys_fixed_5_26_24_01.csv'"
   ]
  },
  {
   "cell_type": "code",
   "execution_count": 8,
   "id": "4cd29032-ef20-4e73-b9fb-d437b67831ba",
   "metadata": {
    "tags": []
   },
   "outputs": [],
   "source": [
    "df1_tech_fix.to_csv(file_path, index=False)"
   ]
  },
  {
   "cell_type": "code",
   "execution_count": 9,
   "id": "ee71f858-9739-4073-a847-a54f46070146",
   "metadata": {
    "tags": []
   },
   "outputs": [],
   "source": [
    "#repeat for outer\n",
    "df2_tech_fix = df2.replace('technolgy', 'technology')"
   ]
  },
  {
   "cell_type": "code",
   "execution_count": 11,
   "id": "1f35e7f9-59d0-445f-9ebd-c0175ba43fef",
   "metadata": {
    "tags": []
   },
   "outputs": [
    {
     "data": {
      "text/html": [
       "<div>\n",
       "<style scoped>\n",
       "    .dataframe tbody tr th:only-of-type {\n",
       "        vertical-align: middle;\n",
       "    }\n",
       "\n",
       "    .dataframe tbody tr th {\n",
       "        vertical-align: top;\n",
       "    }\n",
       "\n",
       "    .dataframe thead th {\n",
       "        text-align: right;\n",
       "    }\n",
       "</style>\n",
       "<table border=\"1\" class=\"dataframe\">\n",
       "  <thead>\n",
       "    <tr style=\"text-align: right;\">\n",
       "      <th></th>\n",
       "      <th>opportunity_id</th>\n",
       "      <th>sales_agent</th>\n",
       "      <th>product</th>\n",
       "      <th>account</th>\n",
       "      <th>deal_stage</th>\n",
       "      <th>engage_date</th>\n",
       "      <th>close_date</th>\n",
       "      <th>close_value</th>\n",
       "      <th>series</th>\n",
       "      <th>sales_price</th>\n",
       "      <th>sector</th>\n",
       "      <th>year_established</th>\n",
       "      <th>revenue</th>\n",
       "      <th>employees</th>\n",
       "      <th>office_location</th>\n",
       "      <th>subsidiary_of</th>\n",
       "      <th>manager</th>\n",
       "      <th>regional_office</th>\n",
       "    </tr>\n",
       "  </thead>\n",
       "  <tbody>\n",
       "  </tbody>\n",
       "</table>\n",
       "</div>"
      ],
      "text/plain": [
       "Empty DataFrame\n",
       "Columns: [opportunity_id, sales_agent, product, account, deal_stage, engage_date, close_date, close_value, series, sales_price, sector, year_established, revenue, employees, office_location, subsidiary_of, manager, regional_office]\n",
       "Index: []"
      ]
     },
     "execution_count": 11,
     "metadata": {},
     "output_type": "execute_result"
    }
   ],
   "source": [
    "df2_tech_fix[df2_tech_fix['sector']=='technolgy']  # it worked. let's export. "
   ]
  },
  {
   "cell_type": "code",
   "execution_count": 12,
   "id": "5ffe5388-a061-47e8-a839-5050ddaf6ebe",
   "metadata": {
    "tags": []
   },
   "outputs": [],
   "source": [
    "file_path = 'all_outer_joined_cntrys_fixed_5_26_24_01.csv'"
   ]
  },
  {
   "cell_type": "code",
   "execution_count": 13,
   "id": "5b7a68b4-b31f-4b93-aeed-23bc231a4ff2",
   "metadata": {
    "tags": []
   },
   "outputs": [],
   "source": [
    "df2_tech_fix.to_csv(file_path, index=False)\n",
    "#done 8:30a 5/30/24"
   ]
  },
  {
   "cell_type": "code",
   "execution_count": null,
   "id": "9496fe64-97db-4eca-bd71-050c321bbbd3",
   "metadata": {},
   "outputs": [],
   "source": [
    "#instead of messing with new csvs in tableau let's just push the change through the csv already in use. 9am."
   ]
  }
 ],
 "metadata": {
  "kernelspec": {
   "display_name": "Python 3 (ipykernel)",
   "language": "python",
   "name": "python3"
  },
  "language_info": {
   "codemirror_mode": {
    "name": "ipython",
    "version": 3
   },
   "file_extension": ".py",
   "mimetype": "text/x-python",
   "name": "python",
   "nbconvert_exporter": "python",
   "pygments_lexer": "ipython3",
   "version": "3.11.5"
  }
 },
 "nbformat": 4,
 "nbformat_minor": 5
}
